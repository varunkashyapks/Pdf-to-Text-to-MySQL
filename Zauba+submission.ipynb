{
 "cells": [
  {
   "cell_type": "markdown",
   "metadata": {},
   "source": [
    "# Zauba Question"
   ]
  },
  {
   "cell_type": "markdown",
   "metadata": {},
   "source": [
    "Parse the attached pdf files and save the data in MySQL database. Provide complete functional code along with a dump of mysql db containing parsed data."
   ]
  },
  {
   "cell_type": "markdown",
   "metadata": {},
   "source": [
    "Pdf file to text for this we used pdfminer. First open the pdf file and parse the object then strat begin to analysis on layouts. from text box extract the text to string "
   ]
  },
  {
   "cell_type": "code",
   "execution_count": 1,
   "metadata": {},
   "outputs": [
    {
     "name": "stdout",
     "output_type": "stream",
     "text": [
      "MINISTRY OF CORPORATE AFFAIRS\n",
      "RECEIPTG.A.R.7\n",
      "Service Request Date : 03/08/2017\n",
      "SRN : U16571275Payment made into :\n",
      "ICICI BANK\n",
      "Received From :Name :Address :\n",
      "Zauba Technologies and Data Services PrivatNo 1/10, II Floor, Near Gate No 9APMC Yard, YeshwanthpurBangalore , KarnatakaIndia - 00560022\n",
      "Full Particulars of RemittanceService Type: Fee for inspection of Public documents\n",
      "Service Description\n",
      "Type of Fee\n",
      "Amount(Rs.)\n",
      "Inspection of Public documents of KEYSTONE \n",
      "REALTORS PRIVATE LIMITED ( U45200MH1995PTC094208  )\n",
      "Normal\n",
      "100.00 \n",
      "Total\n",
      "100.00 \n",
      "Mode of Payment:Received Payment Rupees:  One Hundred Only\n",
      "Credit Card/Prepaid Card - ICICI Bank\n",
      "Note: View public documents service is available for 3 hrs per company, from the time the first document is viewed, and is valid for 1 week\n",
      "Page 1 of 1\n"
     ]
    }
   ],
   "source": [
    "# Importing the required file \n",
    "from pdfminer.pdfparser import PDFParser\n",
    "from pdfminer.pdfdocument import PDFDocument\n",
    "from pdfminer.pdfpage import PDFPage\n",
    "from pdfminer.pdfpage import PDFTextExtractionNotAllowed\n",
    "from pdfminer.pdfinterp import PDFResourceManager\n",
    "from pdfminer.pdfinterp import PDFPageInterpreter\n",
    "from pdfminer.pdfdevice import PDFDevice\n",
    "from pdfminer.layout import LAParams\n",
    "from pdfminer.converter import PDFPageAggregator\n",
    "import pdfminer\n",
    "\n",
    "fp = open('/home/varun/PDFParsing/U16571275.pdf', 'rb')\n",
    "\n",
    "parser = PDFParser(fp)\n",
    "\n",
    "document = PDFDocument(parser)\n",
    "\n",
    "if not document.is_extractable:\n",
    "    raise PDFTextExtractionNotAllowed\n",
    "rsrcmgr = PDFResourceManager()\n",
    "\n",
    "device = PDFDevice(rsrcmgr)\n",
    "\n",
    "laparams = LAParams()\n",
    "\n",
    "device = PDFPageAggregator(rsrcmgr, laparams=laparams)\n",
    "\n",
    "#PDF interpreter object\n",
    "interpreter = PDFPageInterpreter(rsrcmgr, device)\n",
    "# Make a list for further process\n",
    "d = []\n",
    "\n",
    "def parse_obj(lt_objs):\n",
    "\n",
    "    for obj in lt_objs:\n",
    "        if isinstance(obj, pdfminer.layout.LTTextBoxHorizontal):\n",
    "            another= \"%s\" % ( obj.get_text().replace('\\n', ''))\n",
    "            d.append(another)\n",
    "            print another\n",
    "        elif isinstance(obj, pdfminer.layout.LTFigure):\n",
    "            parse_obj(obj._objs)\n",
    "\n",
    "for page in PDFPage.create_pages(document):\n",
    "\n",
    "    interpreter.process_page(page)\n",
    "    layout = device.get_result()\n",
    "\n",
    "    parse_obj(layout._objs)"
   ]
  },
  {
   "cell_type": "markdown",
   "metadata": {},
   "source": [
    "The data is not in the arranged way so for making key, value pair i used normal regular expression(regex) and python list functions then dictionary to store the key, value pair"
   ]
  },
  {
   "cell_type": "code",
   "execution_count": 2,
   "metadata": {},
   "outputs": [
    {
     "data": {
      "text/plain": [
       "'MINISTRY OF CORPORATE AFFAIRS'"
      ]
     },
     "execution_count": 2,
     "metadata": {},
     "output_type": "execute_result"
    }
   ],
   "source": [
    "# Title processing Title as key \n",
    "Title = str(d[0])\n",
    "Title"
   ]
  },
  {
   "cell_type": "code",
   "execution_count": 3,
   "metadata": {},
   "outputs": [
    {
     "data": {
      "text/plain": [
       "' 03/08/2017'"
      ]
     },
     "execution_count": 3,
     "metadata": {},
     "output_type": "execute_result"
    }
   ],
   "source": [
    "# Service_Request_Date as key\n",
    "d2=d[2].split(':') \n",
    "d20 = str(d2[0])\n",
    "Service_Request_Date = str(d2[1])\n",
    "Service_Request_Date\n"
   ]
  },
  {
   "cell_type": "code",
   "execution_count": 4,
   "metadata": {},
   "outputs": [
    {
     "data": {
      "text/plain": [
       "' U16571275'"
      ]
     },
     "execution_count": 4,
     "metadata": {},
     "output_type": "execute_result"
    }
   ],
   "source": [
    "# SRN for the storing into key\n",
    "import re\n",
    "pay = re.compile(u'Payment(.*)')\n",
    "d3 = pay.sub('',d[3])\n",
    "d3 = d3.split(':')\n",
    "S_NO = str(d3[1])\n",
    "S_NO"
   ]
  },
  {
   "cell_type": "code",
   "execution_count": 5,
   "metadata": {},
   "outputs": [
    {
     "data": {
      "text/plain": [
       "'ICICI BANK'"
      ]
     },
     "execution_count": 5,
     "metadata": {},
     "output_type": "execute_result"
    }
   ],
   "source": [
    "#Payment_made_into bank name \n",
    "Payment_made_into = str(d[4])\n",
    "Payment_made_into"
   ]
  },
  {
   "cell_type": "code",
   "execution_count": 6,
   "metadata": {},
   "outputs": [
    {
     "data": {
      "text/plain": [
       "'Zauba Technologies and Data Services Privat'"
      ]
     },
     "execution_count": 6,
     "metadata": {},
     "output_type": "execute_result"
    }
   ],
   "source": [
    "# Name of comapny \n",
    "pay2 = re.compile(u'No(.*)')\n",
    "d6 = str(d[6])\n",
    "d6 = d6.split(',')\n",
    "Name = pay2.sub('',d6[0])\n",
    "Name"
   ]
  },
  {
   "cell_type": "code",
   "execution_count": 7,
   "metadata": {},
   "outputs": [
    {
     "data": {
      "text/plain": [
       "'Yeshwanthpur Bangalore   Karnataka India - 00560022'"
      ]
     },
     "execution_count": 7,
     "metadata": {},
     "output_type": "execute_result"
    }
   ],
   "source": [
    "#Address\n",
    "d61 = d6[3]+d6[4]\n",
    "Address = re.findall('[A-Z][^A-Z]*',d61)\n",
    "Address=\" \".join(Address)\n",
    "Address"
   ]
  },
  {
   "cell_type": "code",
   "execution_count": 8,
   "metadata": {},
   "outputs": [
    {
     "data": {
      "text/plain": [
       "' Fee for inspection of Public documents'"
      ]
     },
     "execution_count": 8,
     "metadata": {},
     "output_type": "execute_result"
    }
   ],
   "source": [
    "#Service Type\n",
    "stype=re.compile(u'(.*)Service Type')\n",
    "d7=stype.sub('',d[7])\n",
    "d7=d7.split(':')\n",
    "Service_Type = str(d7[1])\n",
    "Service_Type"
   ]
  },
  {
   "cell_type": "code",
   "execution_count": 9,
   "metadata": {},
   "outputs": [],
   "source": [
    "#Service Description\n",
    "Service_Description=str(d[11])+str(d[12])"
   ]
  },
  {
   "cell_type": "code",
   "execution_count": 10,
   "metadata": {},
   "outputs": [
    {
     "name": "stdout",
     "output_type": "stream",
     "text": [
      "Normal\n"
     ]
    }
   ],
   "source": [
    "#Type of Fee\n",
    "Type_of_Fee = str(d[13])\n",
    "Type_of_Fee\n",
    "# OR \n",
    "d\n",
    "for i, val in enumerate(d):\n",
    "    if 'Type of Fee' in val:\n",
    "        obj = i+4\n",
    "        Type_of_Fee = str(d[obj])\n",
    "        print Type_of_Fee"
   ]
  },
  {
   "cell_type": "code",
   "execution_count": 11,
   "metadata": {},
   "outputs": [
    {
     "name": "stdout",
     "output_type": "stream",
     "text": [
      "100.0\n"
     ]
    }
   ],
   "source": [
    "# Amount of Rs\n",
    "d\n",
    "for i, val in enumerate(d):\n",
    "    if 'Amount(Rs.)' in val:\n",
    "        obj = i+4\n",
    "        Amount_Rs = float(d[obj])\n",
    "        print Amount_Rs\n"
   ]
  },
  {
   "cell_type": "code",
   "execution_count": 12,
   "metadata": {},
   "outputs": [
    {
     "name": "stdout",
     "output_type": "stream",
     "text": [
      "100.0\n"
     ]
    }
   ],
   "source": [
    "# Total Amount of Rs\n",
    "d\n",
    "for i, val in enumerate(d):\n",
    "    if 'Total' in val:\n",
    "        obj = i+1\n",
    "        Total = float(d[obj])\n",
    "        print Total\n"
   ]
  },
  {
   "cell_type": "code",
   "execution_count": 13,
   "metadata": {},
   "outputs": [
    {
     "name": "stdout",
     "output_type": "stream",
     "text": [
      "Credit Card/Prepaid Card - ICICI Bank\n"
     ]
    }
   ],
   "source": [
    "# Mode of Payment\n",
    "d\n",
    "for i, val in enumerate(d):\n",
    "    if 'Mode of Payment:' in val:\n",
    "        obj = i+1\n",
    "        Mode_of_Payment = str(d[obj])\n",
    "        print Mode_of_Payment\n"
   ]
  },
  {
   "cell_type": "code",
   "execution_count": 14,
   "metadata": {},
   "outputs": [
    {
     "name": "stdout",
     "output_type": "stream",
     "text": [
      "  One Hundred Only\n"
     ]
    }
   ],
   "source": [
    "# Received Payment Rupees\n",
    "d\n",
    "for i, val in enumerate(d):\n",
    "    if 'Received Payment Rupees:' in val:\n",
    "        obj = i\n",
    "        Received_Payment_Rupees = str(d[obj]).split(':')[2]\n",
    "        print Received_Payment_Rupees\n"
   ]
  },
  {
   "cell_type": "markdown",
   "metadata": {},
   "source": [
    "## The new_dic created for storing the key value pair , it is for csv file now i have shown for the two files similarly we can do it for n number of file in single click "
   ]
  },
  {
   "cell_type": "code",
   "execution_count": 15,
   "metadata": {},
   "outputs": [
    {
     "data": {
      "text/plain": [
       "{'Address': 'Yeshwanthpur Bangalore   Karnataka India - 00560022',\n",
       " 'Amount_Rs': 100.0,\n",
       " 'Mode_of_Payment': 'Credit Card/Prepaid Card - ICICI Bank',\n",
       " 'Name': 'Zauba Technologies and Data Services Privat',\n",
       " 'Payment_made_into': 'ICICI BANK',\n",
       " 'Received_Payment_Rupees': '  One Hundred Only',\n",
       " 'S_NO': ' U16571275',\n",
       " 'Service_Description': 'Inspection of Public documents of KEYSTONE REALTORS PRIVATE LIMITED ( U45200MH1995PTC094208  )',\n",
       " 'Service_Request_Date': ' 03/08/2017',\n",
       " 'Service_Type': ' Fee for inspection of Public documents',\n",
       " 'Title': 'MINISTRY OF CORPORATE AFFAIRS',\n",
       " 'Total': 100.0,\n",
       " 'Type_of_Fee': 'Normal'}"
      ]
     },
     "execution_count": 15,
     "metadata": {},
     "output_type": "execute_result"
    }
   ],
   "source": [
    "# Only for first file \n",
    "new_dic1 = {'Address':Address,'Amount_Rs':Amount_Rs,'Mode_of_Payment':Mode_of_Payment,'Name':Name,\n",
    "       'Payment_made_into':Payment_made_into,'Received_Payment_Rupees':Received_Payment_Rupees,'S_NO':S_NO,'Service_Description':Service_Description,\n",
    "       'Service_Request_Date':Service_Request_Date,'Service_Type':Service_Type,\n",
    "       'Title':Title,'Total':Total,'Type_of_Fee':Type_of_Fee}\n",
    "new_dic1"
   ]
  },
  {
   "cell_type": "code",
   "execution_count": 16,
   "metadata": {},
   "outputs": [],
   "source": [
    "# For second file sample i shown here\n",
    "new_dic2 = {'Address':Address,'Amount_Rs':Amount_Rs,'Mode_of_Payment':Mode_of_Payment,'Name':Name,\n",
    "       'Payment_made_into':Payment_made_into,'Received_Payment_Rupees':Received_Payment_Rupees,'S_NO':S_NO,'Service_Description':Service_Description,\n",
    "       'Service_Request_Date':Service_Request_Date,'Service_Type':Service_Type,\n",
    "       'Title':Title,'Total':Total,'Type_of_Fee':Type_of_Fee}"
   ]
  },
  {
   "cell_type": "markdown",
   "metadata": {},
   "source": [
    "## This below is shown how we combine two files into csv final"
   ]
  },
  {
   "cell_type": "code",
   "execution_count": 17,
   "metadata": {},
   "outputs": [
    {
     "name": "stdout",
     "output_type": "stream",
     "text": [
      "+-------------------------+------------------------------------------------------------------------------------------------+------------------------------------------------------------------------------------------------+\n",
      "|                         | Value 1                                                                                        | Value 2                                                                                        |\n",
      "+=========================+================================================================================================+================================================================================================+\n",
      "| Address                 | Yeshwanthpur Bangalore   Karnataka India - 00560022                                            | Yeshwanthpur Bangalore   Karnataka India - 00560022                                            |\n",
      "+-------------------------+------------------------------------------------------------------------------------------------+------------------------------------------------------------------------------------------------+\n",
      "| Amount_Rs               | 100.0                                                                                          | 100.0                                                                                          |\n",
      "+-------------------------+------------------------------------------------------------------------------------------------+------------------------------------------------------------------------------------------------+\n",
      "| Mode_of_Payment         | Credit Card/Prepaid Card - ICICI Bank                                                          | Credit Card/Prepaid Card - ICICI Bank                                                          |\n",
      "+-------------------------+------------------------------------------------------------------------------------------------+------------------------------------------------------------------------------------------------+\n",
      "| Name                    | Zauba Technologies and Data Services Privat                                                    | Zauba Technologies and Data Services Privat                                                    |\n",
      "+-------------------------+------------------------------------------------------------------------------------------------+------------------------------------------------------------------------------------------------+\n",
      "| Payment_made_into       | ICICI BANK                                                                                     | ICICI BANK                                                                                     |\n",
      "+-------------------------+------------------------------------------------------------------------------------------------+------------------------------------------------------------------------------------------------+\n",
      "| Received_Payment_Rupees | One Hundred Only                                                                               | One Hundred Only                                                                               |\n",
      "+-------------------------+------------------------------------------------------------------------------------------------+------------------------------------------------------------------------------------------------+\n",
      "| S_NO                    | U16571275                                                                                      | U16571275                                                                                      |\n",
      "+-------------------------+------------------------------------------------------------------------------------------------+------------------------------------------------------------------------------------------------+\n",
      "| Service_Description     | Inspection of Public documents of KEYSTONE REALTORS PRIVATE LIMITED ( U45200MH1995PTC094208  ) | Inspection of Public documents of KEYSTONE REALTORS PRIVATE LIMITED ( U45200MH1995PTC094208  ) |\n",
      "+-------------------------+------------------------------------------------------------------------------------------------+------------------------------------------------------------------------------------------------+\n",
      "| Service_Request_Date    | 03/08/2017                                                                                     | 03/08/2017                                                                                     |\n",
      "+-------------------------+------------------------------------------------------------------------------------------------+------------------------------------------------------------------------------------------------+\n",
      "| Service_Type            | Fee for inspection of Public documents                                                         | Fee for inspection of Public documents                                                         |\n",
      "+-------------------------+------------------------------------------------------------------------------------------------+------------------------------------------------------------------------------------------------+\n",
      "| Title                   | MINISTRY OF CORPORATE AFFAIRS                                                                  | MINISTRY OF CORPORATE AFFAIRS                                                                  |\n",
      "+-------------------------+------------------------------------------------------------------------------------------------+------------------------------------------------------------------------------------------------+\n",
      "| Total                   | 100.0                                                                                          | 100.0                                                                                          |\n",
      "+-------------------------+------------------------------------------------------------------------------------------------+------------------------------------------------------------------------------------------------+\n",
      "| Type_of_Fee             | Normal                                                                                         | Normal                                                                                         |\n",
      "+-------------------------+------------------------------------------------------------------------------------------------+------------------------------------------------------------------------------------------------+\n"
     ]
    }
   ],
   "source": [
    "from tabulate import tabulate\n",
    "import pandas as pd\n",
    "\n",
    "df1 = pd.Series(new_dic1,name='Value 1').to_frame()\n",
    "df2 = pd.Series(new_dic2,name='Value 2').to_frame()\n",
    "df=pd.concat([df1, df2], axis=1)\n",
    "print(tabulate(df, headers= 'keys', tablefmt= 'grid'))\n",
    "df.to_csv('filenamehere.csv',header = False)"
   ]
  },
  {
   "cell_type": "markdown",
   "metadata": {},
   "source": [
    "### Like the above in csv file it will be storing now we want to transpose into row to column because in \n",
    "### order to store in the MySql database , from csv we can easily store the csv values now transposing csv file as we requuired "
   ]
  },
  {
   "cell_type": "code",
   "execution_count": 18,
   "metadata": {},
   "outputs": [],
   "source": [
    "import pandas as pd\n",
    "ano_tr = pd.read_csv(\"filenamehere.csv\",header=None)\n",
    "tt = ano_tr.T\n",
    "tt=tt.iloc[1:]\n",
    "\n",
    "tt.to_csv('aaaaaa.csv',header= False,index=False)"
   ]
  },
  {
   "cell_type": "markdown",
   "metadata": {},
   "source": [
    "### Now transpose has done then we need to push into mysql database\n",
    "### Note please keep all files in the root home work directory or else specify the path for all csv"
   ]
  },
  {
   "cell_type": "markdown",
   "metadata": {},
   "source": [
    " We use the Mysql package in python, before this some pacakges are required download from internt or\n",
    " use in terminal $ sudo apt-get install mysql-server mysql-client or $ easy_install-2.7 mysql-python , before that  $ sudo apt-get update && sudo apt-get upgrade\n",
    "\n",
    "After inastalling required package create localhost host=\"localhost\",user=\"root\",\n",
    "the give as you required passwd=\"*******\", then create database db='pdf_data'\n"
   ]
  },
  {
   "cell_type": "markdown",
   "metadata": {},
   "source": [
    "## Craeting the database (run below commond only once)"
   ]
  },
  {
   "cell_type": "code",
   "execution_count": 21,
   "metadata": {},
   "outputs": [
    {
     "data": {
      "text/plain": [
       "1L"
      ]
     },
     "execution_count": 21,
     "metadata": {},
     "output_type": "execute_result"
    }
   ],
   "source": [
    "# Craeting the database\n",
    "import MySQLdb\n",
    "db = MySQLdb.connect(host=\"localhost\",user=\"root\",passwd=\"9482029664\")\n",
    "cursor = db.cursor()\n",
    "sql = 'CREATE DATABASE pdf_data'\n",
    "cursor.execute(sql)"
   ]
  },
  {
   "cell_type": "code",
   "execution_count": 22,
   "metadata": {},
   "outputs": [
    {
     "name": "stderr",
     "output_type": "stream",
     "text": [
      "/usr/local/lib/python2.7/dist-packages/ipykernel_launcher.py:11: Warning: Unknown table 'pdf_data.test_csv3'\n",
      "  # This is added back by InteractiveShellApp.init_path()\n"
     ]
    }
   ],
   "source": [
    "# Craeting the database\n",
    "import MySQLdb\n",
    "\n",
    "# Open database connection and give your password username host database name\n",
    "db = MySQLdb.connect(host=\"localhost\",user=\"root\",passwd=\"9482029664\",db='pdf_data')\n",
    "\n",
    "# prepare a cursor object using cursor() method\n",
    "cursor = db.cursor()\n",
    "\n",
    "# Drop table if it already exist using execute() method.\n",
    "cursor.execute(\"DROP TABLE IF EXISTS test_csv3\")\n",
    "\n",
    "# Create table as per requirement\n",
    "sql = \"\"\"CREATE TABLE test_csv3 (\n",
    "         Address CHAR(250),\n",
    "         Amount_Rs CHAR(250),\n",
    "         Mode_of_Payment CHAR(250),\n",
    "         Name CHAR(250),\n",
    "         Payment_made_into CHAR(250),\n",
    "         Received_Payment_Rupees CHAR(250),\n",
    "         S_NO CHAR(250) NOT NULL,\n",
    "         Service_Type CHAR(250),\n",
    "         Service_Description CHAR(250),\n",
    "         Service_Request_Date CHAR(250),\n",
    "         Title CHAR(250),\n",
    "         Total CHAR(250),\n",
    "         Type_of_Fee CHAR(250))\"\"\"\n",
    "    \n",
    "\n",
    "\n",
    "cursor.execute(sql)\n",
    "# disconnect\n",
    "db.close()"
   ]
  },
  {
   "cell_type": "markdown",
   "metadata": {},
   "source": [
    "## Inserting values into data bases"
   ]
  },
  {
   "cell_type": "code",
   "execution_count": 24,
   "metadata": {},
   "outputs": [
    {
     "name": "stdout",
     "output_type": "stream",
     "text": [
      "Done\n"
     ]
    }
   ],
   "source": [
    "import csv\n",
    "import MySQLdb\n",
    "\n",
    "mydb = MySQLdb.connect(host='localhost',\n",
    "    user='root',\n",
    "    passwd='9482029664',\n",
    "    db='pdf_data')\n",
    "cursor = mydb.cursor()\n",
    "\n",
    "#csv_data = csv.reader(file('pdf_test_zuba.csv'))\n",
    "csv_data = csv.reader(file('aaaaaa.csv'))\n",
    "\n",
    "for row in csv_data:\n",
    "    cursor.execute('INSERT INTO test_csv3(Address,Amount_Rs,Mode_of_Payment,Name,Payment_made_into,Received_Payment_Rupees,S_NO,\\\n",
    "                  Service_Type,Service_Description,Service_Request_Date,Title,Total,Type_of_Fee)'\\\n",
    "                   'VALUES(\"%s\", \"%s\", \"%s\",\"%s\",\"%s\",\"%s\",\"%s\", \"%s\", \"%s\",\"%s\",\"%s\",\"%s\",\"%s\")',row)\n",
    "#close the connection to the database.\n",
    "mydb.commit()\n",
    "cursor.close()\n",
    "print \"Done\""
   ]
  },
  {
   "cell_type": "markdown",
   "metadata": {},
   "source": [
    "## Now we will do it for all file if folder has several pdf file means we can iterate through it. By for loop and python module os.list directory we can pass the file .\n",
    "## The below file run and directly appending into the main mysql database(already created database)"
   ]
  },
  {
   "cell_type": "code",
   "execution_count": 26,
   "metadata": {},
   "outputs": [
    {
     "name": "stdout",
     "output_type": "stream",
     "text": [
      "MINISTRY OF CORPORATE AFFAIRS\n",
      " 03/08/2017\n",
      " U16573131\n",
      "ICICI BANK\n",
      "Zauba Technologies and Data Services Privat\n",
      "Yeshwanthpur Bangalore   Karnataka India - 00560022\n",
      " Fee for inspection of Public documents\n",
      "Inspection of Public documents of WESNIA INFO SOLUTIONS PRIVATE LIMITED ( U72200KA2006PTC039676  )\n",
      "Normal\n",
      "Normal\n",
      "100.0\n",
      "100.0\n",
      "Credit Card/Prepaid Card - ICICI Bank\n",
      "  One Hundred Only\n",
      "+-------------------------+----------------------------------------------------------------------------------------------------+\n",
      "|                         | Value 1                                                                                            |\n",
      "+=========================+====================================================================================================+\n",
      "| Address                 | Yeshwanthpur Bangalore   Karnataka India - 00560022                                                |\n",
      "+-------------------------+----------------------------------------------------------------------------------------------------+\n",
      "| Amount_Rs               | 100.0                                                                                              |\n",
      "+-------------------------+----------------------------------------------------------------------------------------------------+\n",
      "| Mode_of_Payment         | Credit Card/Prepaid Card - ICICI Bank                                                              |\n",
      "+-------------------------+----------------------------------------------------------------------------------------------------+\n",
      "| Name                    | Zauba Technologies and Data Services Privat                                                        |\n",
      "+-------------------------+----------------------------------------------------------------------------------------------------+\n",
      "| Payment_made_into       | ICICI BANK                                                                                         |\n",
      "+-------------------------+----------------------------------------------------------------------------------------------------+\n",
      "| Received_Payment_Rupees | One Hundred Only                                                                                   |\n",
      "+-------------------------+----------------------------------------------------------------------------------------------------+\n",
      "| S_NO                    | U16573131                                                                                          |\n",
      "+-------------------------+----------------------------------------------------------------------------------------------------+\n",
      "| Service_Description     | Inspection of Public documents of WESNIA INFO SOLUTIONS PRIVATE LIMITED ( U72200KA2006PTC039676  ) |\n",
      "+-------------------------+----------------------------------------------------------------------------------------------------+\n",
      "| Service_Request_Date    | 03/08/2017                                                                                         |\n",
      "+-------------------------+----------------------------------------------------------------------------------------------------+\n",
      "| Service_Type            | Fee for inspection of Public documents                                                             |\n",
      "+-------------------------+----------------------------------------------------------------------------------------------------+\n",
      "| Title                   | MINISTRY OF CORPORATE AFFAIRS                                                                      |\n",
      "+-------------------------+----------------------------------------------------------------------------------------------------+\n",
      "| Total                   | 100.0                                                                                              |\n",
      "+-------------------------+----------------------------------------------------------------------------------------------------+\n",
      "| Type_of_Fee             | Normal                                                                                             |\n",
      "+-------------------------+----------------------------------------------------------------------------------------------------+\n",
      "Done\n"
     ]
    }
   ],
   "source": [
    "# Importing the required file \n",
    "from pdfminer.pdfparser import PDFParser\n",
    "from pdfminer.pdfdocument import PDFDocument\n",
    "from pdfminer.pdfpage import PDFPage\n",
    "from pdfminer.pdfpage import PDFTextExtractionNotAllowed\n",
    "from pdfminer.pdfinterp import PDFResourceManager\n",
    "from pdfminer.pdfinterp import PDFPageInterpreter\n",
    "from pdfminer.pdfdevice import PDFDevice\n",
    "from pdfminer.layout import LAParams\n",
    "from pdfminer.converter import PDFPageAggregator\n",
    "import pdfminer\n",
    "\n",
    "fp = open('/home/varun/PDFParsing/U16573131.pdf', 'rb')\n",
    "\n",
    "parser = PDFParser(fp)\n",
    "\n",
    "document = PDFDocument(parser)\n",
    "\n",
    "if not document.is_extractable:\n",
    "    raise PDFTextExtractionNotAllowed\n",
    "rsrcmgr = PDFResourceManager()\n",
    "\n",
    "device = PDFDevice(rsrcmgr)\n",
    "\n",
    "laparams = LAParams()\n",
    "\n",
    "device = PDFPageAggregator(rsrcmgr, laparams=laparams)\n",
    "\n",
    "#PDF interpreter object\n",
    "interpreter = PDFPageInterpreter(rsrcmgr, device)\n",
    "# Make a list for further process\n",
    "d = []\n",
    "\n",
    "def parse_obj(lt_objs):\n",
    "\n",
    "    for obj in lt_objs:\n",
    "        if isinstance(obj, pdfminer.layout.LTTextBoxHorizontal):\n",
    "            another= \"%s\" % ( obj.get_text().replace('\\n', ''))\n",
    "            d.append(another)\n",
    "            #print another\n",
    "        elif isinstance(obj, pdfminer.layout.LTFigure):\n",
    "            parse_obj(obj._objs)\n",
    "\n",
    "for page in PDFPage.create_pages(document):\n",
    "\n",
    "    interpreter.process_page(page)\n",
    "    layout = device.get_result()\n",
    "\n",
    "    parse_obj(layout._objs)\n",
    "    \n",
    "# Title processing Title as key \n",
    "Title = str(d[0])\n",
    "print Title\n",
    "\n",
    "# Service_Request_Date as key\n",
    "d2=d[2].split(':') \n",
    "d20 = str(d2[0])\n",
    "Service_Request_Date = str(d2[1])\n",
    "print Service_Request_Date\n",
    "\n",
    "# SRN for the storing into key\n",
    "import re\n",
    "pay = re.compile(u'Payment(.*)')\n",
    "d3 = pay.sub('',d[3])\n",
    "d3 = d3.split(':')\n",
    "S_NO = str(d3[1])\n",
    "print S_NO\n",
    "\n",
    "#Payment_made_into bank name \n",
    "Payment_made_into = str(d[4])\n",
    "print Payment_made_into\n",
    "\n",
    "# Name of comapny \n",
    "pay2 = re.compile(u'No(.*)')\n",
    "d6 = str(d[6])\n",
    "d6 = d6.split(',')\n",
    "Name = pay2.sub('',d6[0])\n",
    "print Name\n",
    "\n",
    "#Address\n",
    "d61 = d6[3]+d6[4]\n",
    "Address = re.findall('[A-Z][^A-Z]*',d61)\n",
    "Address=\" \".join(Address)\n",
    "print Address\n",
    "#Service Type\n",
    "stype=re.compile(u'(.*)Service Type')\n",
    "d7=stype.sub('',d[7])\n",
    "d7=d7.split(':')\n",
    "Service_Type = str(d7[1])\n",
    "print Service_Type\n",
    "#Service Description\n",
    "Service_Description=str(d[11])+str(d[12])\n",
    "print Service_Description\n",
    "#Type of Fee\n",
    "Type_of_Fee = str(d[13])\n",
    "print Type_of_Fee\n",
    "# OR \n",
    "\n",
    "for i, val in enumerate(d):\n",
    "    if 'Type of Fee' in val:\n",
    "        obj = i+4\n",
    "        Type_of_Fee = str(d[obj])\n",
    "        print Type_of_Fee\n",
    "# Amount of Rs\n",
    "\n",
    "for i, val in enumerate(d):\n",
    "    if 'Amount(Rs.)' in val:\n",
    "        obj = i+4\n",
    "        Amount_Rs = float(d[obj])\n",
    "        print Amount_Rs\n",
    "# Total Amount of Rs\n",
    "for i, val in enumerate(d):\n",
    "    if 'Total' in val:\n",
    "        obj = i+1\n",
    "        Total = float(d[obj])\n",
    "        print Total\n",
    "# Mode of Payment\n",
    "\n",
    "for i, val in enumerate(d):\n",
    "    if 'Mode of Payment:' in val:\n",
    "        obj = i+1\n",
    "        Mode_of_Payment = str(d[obj])\n",
    "        print Mode_of_Payment\n",
    "# Received Payment Rupees\n",
    "\n",
    "for i, val in enumerate(d):\n",
    "    if 'Received Payment Rupees:' in val:\n",
    "        obj = i\n",
    "        Received_Payment_Rupees = str(d[obj]).split(':')[2]\n",
    "        print Received_Payment_Rupees\n",
    "        \n",
    "# Only for first file \n",
    "new_dic3 = {'Address':Address,'Amount_Rs':Amount_Rs,'Mode_of_Payment':Mode_of_Payment,'Name':Name,\n",
    "       'Payment_made_into':Payment_made_into,'Received_Payment_Rupees':Received_Payment_Rupees,'S_NO':S_NO,'Service_Description':Service_Description,\n",
    "       'Service_Request_Date':Service_Request_Date,'Service_Type':Service_Type,\n",
    "       'Title':Title,'Total':Total,'Type_of_Fee':Type_of_Fee}\n",
    "new_dic3\n",
    "\n",
    "# Tabulating the data for better csv\n",
    "from tabulate import tabulate\n",
    "import pandas as pd\n",
    "\n",
    "df = pd.Series(new_dic3,name='Value 1').to_frame()\n",
    "print(tabulate(df, headers= 'keys', tablefmt= 'grid'))\n",
    "df.to_csv('filenamehere1.csv',header = False)\n",
    "#Now transpose has to do\n",
    "import pandas as pd\n",
    "ano_tr = pd.read_csv(\"filenamehere1.csv\",header=None)\n",
    "tt = ano_tr.T\n",
    "tt=tt.iloc[1:]\n",
    "\n",
    "tt.to_csv('aaaaaa1.csv',header= False,index=False)\n",
    "\n",
    "#Inserting values into data bases\n",
    "import csv\n",
    "import MySQLdb\n",
    "\n",
    "mydb = MySQLdb.connect(host='localhost',\n",
    "    user='root',\n",
    "    passwd='9482029664',\n",
    "    db='pdf_data')\n",
    "cursor = mydb.cursor()\n",
    "\n",
    "#csv_data = csv.reader(file('pdf_test_zuba.csv'))\n",
    "csv_data = csv.reader(file('aaaaaa1.csv'))\n",
    "\n",
    "for row in csv_data:\n",
    "    cursor.execute('INSERT INTO test_csv3(Address,Amount_Rs,Mode_of_Payment,Name,Payment_made_into,Received_Payment_Rupees,S_NO,\\\n",
    "                  Service_Type,Service_Description,Service_Request_Date,Title,Total,Type_of_Fee)'\\\n",
    "                   'VALUES(\"%s\", \"%s\", \"%s\",\"%s\",\"%s\",\"%s\",\"%s\", \"%s\", \"%s\",\"%s\",\"%s\",\"%s\",\"%s\")',row)\n",
    "#close the connection to the database.\n",
    "mydb.commit()\n",
    "cursor.close()\n",
    "print \"Done\"   "
   ]
  }
 ],
 "metadata": {
  "kernelspec": {
   "display_name": "Python 2",
   "language": "python",
   "name": "python2"
  },
  "language_info": {
   "codemirror_mode": {
    "name": "ipython",
    "version": 2
   },
   "file_extension": ".py",
   "mimetype": "text/x-python",
   "name": "python",
   "nbconvert_exporter": "python",
   "pygments_lexer": "ipython2",
   "version": "2.7.12+"
  }
 },
 "nbformat": 4,
 "nbformat_minor": 2
}
